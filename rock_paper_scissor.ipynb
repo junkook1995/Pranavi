{
  "nbformat": 4,
  "nbformat_minor": 0,
  "metadata": {
    "colab": {
      "provenance": []
    },
    "kernelspec": {
      "name": "python3",
      "display_name": "Python 3"
    },
    "language_info": {
      "name": "python"
    }
  },
  "cells": [
    {
      "cell_type": "code",
      "source": [
        "import random\n",
        "def random_choose():\n",
        "    game_list = [\"rock\",\"paper\",\"scissor\"]\n",
        "    random.shuffle(game_list)\n",
        "    return random.choice(game_list)"
      ],
      "metadata": {
        "id": "x2NJIBtq0a7O"
      },
      "execution_count": null,
      "outputs": []
    },
    {
      "cell_type": "code",
      "source": [
        "def user_game():\n",
        "    user_side = input(\"enter either rock paper scissior: \")\n",
        "    return user_side"
      ],
      "metadata": {
        "id": "KKq3_R_A39_J"
      },
      "execution_count": null,
      "outputs": []
    },
    {
      "cell_type": "code",
      "source": [
        "def score_board(user_count, computer_count):\n",
        "    computer_choice = random_choose()\n",
        "    user_choice = user_game()\n",
        "    print(\"Computer's choice:\", computer_choice)\n",
        "    print(\"User's choice:\", user_choice)\n",
        "    if computer_choice == user_choice:\n",
        "        print(\"It's a tie!\")\n",
        "    elif (\n",
        "        (computer_choice == \"rock\" and user_choice == \"scissor\") or\n",
        "        (computer_choice == \"paper\" and user_choice == \"rock\") or\n",
        "        (computer_choice == \"scissor\" and user_choice == \"paper\")\n",
        "    ):\n",
        "        print(\"Computer wins!\")\n",
        "        computer_count += 1\n",
        "    else:\n",
        "        print(\"User wins!\")\n",
        "        user_count += 1\n",
        "    return user_count, computer_count\n",
        "user_count = 0\n",
        "computer_count = 0\n",
        "while True:\n",
        "    user_count, computer_count = score_board(user_count, computer_count)\n",
        "    play_again = input(\"Play again? (yes/no): \").lower()\n",
        "    if play_again != \"yes\":\n",
        "        print(\"Final score - User:\", user_count, \"Computer:\", computer_count)\n",
        "        break"
      ],
      "metadata": {
        "colab": {
          "base_uri": "https://localhost:8080/"
        },
        "id": "1j3qo4bHFYAK",
        "outputId": "9997841b-e31a-4d30-d7f6-d9ad7777c121"
      },
      "execution_count": null,
      "outputs": [
        {
          "output_type": "stream",
          "name": "stdout",
          "text": [
            "enter either rock paper scissior: rock\n",
            "Computer's choice: scissor\n",
            "User's choice: rock\n",
            "User wins!\n",
            "Play again? (yes/no): yes\n",
            "enter either rock paper scissior: scissor\n",
            "Computer's choice: rock\n",
            "User's choice: scissor\n",
            "Computer wins!\n",
            "Play again? (yes/no): yes\n",
            "enter either rock paper scissior: scissor\n",
            "Computer's choice: scissor\n",
            "User's choice: scissor\n",
            "It's a tie!\n",
            "Play again? (yes/no): yes\n",
            "enter either rock paper scissior: paper\n",
            "Computer's choice: paper\n",
            "User's choice: paper\n",
            "It's a tie!\n",
            "Play again? (yes/no): yes\n",
            "enter either rock paper scissior: paper\n",
            "Computer's choice: rock\n",
            "User's choice: paper\n",
            "User wins!\n",
            "Play again? (yes/no): yes\n",
            "enter either rock paper scissior: rock\n",
            "Computer's choice: paper\n",
            "User's choice: rock\n",
            "Computer wins!\n",
            "Play again? (yes/no): no\n",
            "Final score - User: 2 Computer: 2\n"
          ]
        }
      ]
    }
  ]
}