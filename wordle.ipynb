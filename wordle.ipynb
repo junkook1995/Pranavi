{
  "nbformat": 4,
  "nbformat_minor": 0,
  "metadata": {
    "colab": {
      "provenance": []
    },
    "kernelspec": {
      "name": "python3",
      "display_name": "Python 3"
    },
    "language_info": {
      "name": "python"
    }
  },
  "cells": [
    {
      "cell_type": "code",
      "execution_count": 1,
      "metadata": {
        "id": "VrkPFnVF5dNq"
      },
      "outputs": [],
      "source": [
        "import random\n",
        "def generate_word(letter_list: list[str]) -> str:\n",
        "    return random.choice(letter_list)"
      ]
    },
    {
      "cell_type": "code",
      "source": [
        "def load_data(filename: str) -> list[str]:\n",
        "    word_list = []\n",
        "    for line in open(filename):\n",
        "        word = line.strip()\n",
        "        word_list.append(word)\n",
        "    return word_list"
      ],
      "metadata": {
        "id": "rPPWpLUOHZf0"
      },
      "execution_count": 2,
      "outputs": []
    },
    {
      "cell_type": "code",
      "source": [
        "def four_letter_words(data: list[str]) -> list[str]:\n",
        "    return [_ for _ in data if len(_) == 4]"
      ],
      "metadata": {
        "id": "ESXjOdduHefo"
      },
      "execution_count": 3,
      "outputs": []
    },
    {
      "cell_type": "code",
      "source": [
        "def five_letter_words(data: list[str]) -> list[str]:\n",
        "    return [_ for _ in data if len(_) == 5]"
      ],
      "metadata": {
        "id": "aRBos5XGHhhg"
      },
      "execution_count": 4,
      "outputs": []
    },
    {
      "cell_type": "code",
      "source": [
        "def six_letter_words(data: list[str]) -> list[str]:\n",
        "    return [_ for _ in data if len(_) == 6]"
      ],
      "metadata": {
        "id": "MgUEgOb9HlPP"
      },
      "execution_count": 5,
      "outputs": []
    },
    {
      "cell_type": "code",
      "source": [
        "def check_repetition(word: str):\n",
        "    return sorted(list(word)) == sorted(set(word))"
      ],
      "metadata": {
        "id": "jkXViw1ZHoo_"
      },
      "execution_count": 6,
      "outputs": []
    },
    {
      "cell_type": "code",
      "source": [
        "def drop_repetition(words: list[str]) -> list[str]:\n",
        "    return [_ for _ in words if check_repetition(_)]"
      ],
      "metadata": {
        "id": "SKMBoymZHrl6"
      },
      "execution_count": 7,
      "outputs": []
    },
    {
      "cell_type": "code",
      "source": [
        "import itertools\n",
        "def permuted_letters(word: str, n: int):\n",
        "    return [\"\".join(_) for _ in itertools.permutations( word, n )]"
      ],
      "metadata": {
        "id": "FccxFRo2Hure"
      },
      "execution_count": 8,
      "outputs": []
    },
    {
      "cell_type": "code",
      "source": [
        "def compressed_list(all_words: list[str], word: str,num_of_correct_letters: int) -> list[str]:\n",
        "    compressed_list = []\n",
        "    for i in permuted_letters(word , num_of_correct_letters):\n",
        "        compressed_list.extend(_ for _ in all_words if i in _)\n",
        "    return compressed_list"
      ],
      "metadata": {
        "id": "hEd7LN3kHxzU"
      },
      "execution_count": 9,
      "outputs": []
    },
    {
      "cell_type": "code",
      "source": [
        "def match_letters_count(target: str,guessed: str) -> int:\n",
        "    return sum(1 for _ in guessed if _ in target)"
      ],
      "metadata": {
        "id": "5SXpnyxBH0_S"
      },
      "execution_count": 10,
      "outputs": []
    },
    {
      "cell_type": "code",
      "source": [
        "def wordleA():\n",
        "    choice = int(input(\"Enter choice:\\n 1.Easy \\n 2.Medium \\n 3.Hard\\n\"))\n",
        "    if choice == 1:\n",
        "        all_words = drop_repetition(four_letter_words(load_data(\"words.txt\")))\n",
        "    if choice == 2:\n",
        "        all_words = drop_repetition(five_letter_words(load_data(\"words.txt\")))\n",
        "    if choice == 3:\n",
        "        all_words = drop_repetition(six_letter_words(load_data(\"words.txt\")))\n",
        "\n",
        "    comp_target = generate_word(all_words)\n",
        "    user_target = input(\"Enter your target:\")\n",
        "\n",
        "\n",
        "    user_guess = input(\"Person guess:\")\n",
        "    comp_guess = generate_word(all_words)\n",
        "    print(\"Computer guess:\",comp_guess)\n",
        "\n",
        "    while comp_target != user_guess and user_target != comp_guess :\n",
        "        print(\"Number of similar letters for users input:\", match_letters_count(comp_target,user_guess))\n",
        "\n",
        "        print(\"Number of similar letters for comp guess:\",match_letters_count(user_target,comp_guess))\n",
        "        all_words = compressed_list(all_words, user_target ,match_letters_count(user_target,comp_guess))\n",
        "\n",
        "        user_guess = input(\"Person guess:\")\n",
        "        comp_guess = generate_word(all_words)\n",
        "        print(\"Comp guess:\",comp_guess)\n",
        "\n",
        "\n",
        "    if comp_target == user_guess:\n",
        "        print(\"User Won\")\n",
        "    else :\n",
        "        print(\"Computer Won\")\n",
        "        print(\"Computer target:\", comp_target)\n",
        "wordleA()"
      ],
      "metadata": {
        "colab": {
          "base_uri": "https://localhost:8080/",
          "height": 369
        },
        "id": "nfY5xPfoH4ox",
        "outputId": "54240177-aa6c-48c7-9c11-b3e524cbf3f6"
      },
      "execution_count": 13,
      "outputs": [
        {
          "output_type": "error",
          "ename": "KeyboardInterrupt",
          "evalue": "ignored",
          "traceback": [
            "\u001b[0;31m---------------------------------------------------------------------------\u001b[0m",
            "\u001b[0;31mKeyboardInterrupt\u001b[0m                         Traceback (most recent call last)",
            "\u001b[0;32m<ipython-input-13-25518d46f74f>\u001b[0m in \u001b[0;36m<cell line: 34>\u001b[0;34m()\u001b[0m\n\u001b[1;32m     32\u001b[0m         \u001b[0mprint\u001b[0m\u001b[0;34m(\u001b[0m\u001b[0;34m\"Computer Won\"\u001b[0m\u001b[0;34m)\u001b[0m\u001b[0;34m\u001b[0m\u001b[0;34m\u001b[0m\u001b[0m\n\u001b[1;32m     33\u001b[0m         \u001b[0mprint\u001b[0m\u001b[0;34m(\u001b[0m\u001b[0;34m\"Computer target:\"\u001b[0m\u001b[0;34m,\u001b[0m \u001b[0mcomp_target\u001b[0m\u001b[0;34m)\u001b[0m\u001b[0;34m\u001b[0m\u001b[0;34m\u001b[0m\u001b[0m\n\u001b[0;32m---> 34\u001b[0;31m \u001b[0mwordleA\u001b[0m\u001b[0;34m(\u001b[0m\u001b[0;34m)\u001b[0m\u001b[0;34m\u001b[0m\u001b[0;34m\u001b[0m\u001b[0m\n\u001b[0m",
            "\u001b[0;32m<ipython-input-13-25518d46f74f>\u001b[0m in \u001b[0;36mwordleA\u001b[0;34m()\u001b[0m\n\u001b[1;32m      1\u001b[0m \u001b[0;32mdef\u001b[0m \u001b[0mwordleA\u001b[0m\u001b[0;34m(\u001b[0m\u001b[0;34m)\u001b[0m\u001b[0;34m:\u001b[0m\u001b[0;34m\u001b[0m\u001b[0;34m\u001b[0m\u001b[0m\n\u001b[0;32m----> 2\u001b[0;31m     \u001b[0mchoice\u001b[0m \u001b[0;34m=\u001b[0m \u001b[0mint\u001b[0m\u001b[0;34m(\u001b[0m\u001b[0minput\u001b[0m\u001b[0;34m(\u001b[0m\u001b[0;34m\"Enter choice:\\n 1.Easy \\n 2.Medium \\n 3.Hard\\n\"\u001b[0m\u001b[0;34m)\u001b[0m\u001b[0;34m)\u001b[0m\u001b[0;34m\u001b[0m\u001b[0;34m\u001b[0m\u001b[0m\n\u001b[0m\u001b[1;32m      3\u001b[0m     \u001b[0;32mif\u001b[0m \u001b[0mchoice\u001b[0m \u001b[0;34m==\u001b[0m \u001b[0;36m1\u001b[0m\u001b[0;34m:\u001b[0m\u001b[0;34m\u001b[0m\u001b[0;34m\u001b[0m\u001b[0m\n\u001b[1;32m      4\u001b[0m         \u001b[0mall_words\u001b[0m \u001b[0;34m=\u001b[0m \u001b[0mdrop_repetition\u001b[0m\u001b[0;34m(\u001b[0m\u001b[0mfour_letter_words\u001b[0m\u001b[0;34m(\u001b[0m\u001b[0mload_data\u001b[0m\u001b[0;34m(\u001b[0m\u001b[0;34m\"words.txt\"\u001b[0m\u001b[0;34m)\u001b[0m\u001b[0;34m)\u001b[0m\u001b[0;34m)\u001b[0m\u001b[0;34m\u001b[0m\u001b[0;34m\u001b[0m\u001b[0m\n\u001b[1;32m      5\u001b[0m     \u001b[0;32mif\u001b[0m \u001b[0mchoice\u001b[0m \u001b[0;34m==\u001b[0m \u001b[0;36m2\u001b[0m\u001b[0;34m:\u001b[0m\u001b[0;34m\u001b[0m\u001b[0;34m\u001b[0m\u001b[0m\n",
            "\u001b[0;32m/usr/local/lib/python3.10/dist-packages/ipykernel/kernelbase.py\u001b[0m in \u001b[0;36mraw_input\u001b[0;34m(self, prompt)\u001b[0m\n\u001b[1;32m    849\u001b[0m                 \u001b[0;34m\"raw_input was called, but this frontend does not support input requests.\"\u001b[0m\u001b[0;34m\u001b[0m\u001b[0;34m\u001b[0m\u001b[0m\n\u001b[1;32m    850\u001b[0m             )\n\u001b[0;32m--> 851\u001b[0;31m         return self._input_request(str(prompt),\n\u001b[0m\u001b[1;32m    852\u001b[0m             \u001b[0mself\u001b[0m\u001b[0;34m.\u001b[0m\u001b[0m_parent_ident\u001b[0m\u001b[0;34m,\u001b[0m\u001b[0;34m\u001b[0m\u001b[0;34m\u001b[0m\u001b[0m\n\u001b[1;32m    853\u001b[0m             \u001b[0mself\u001b[0m\u001b[0;34m.\u001b[0m\u001b[0m_parent_header\u001b[0m\u001b[0;34m,\u001b[0m\u001b[0;34m\u001b[0m\u001b[0;34m\u001b[0m\u001b[0m\n",
            "\u001b[0;32m/usr/local/lib/python3.10/dist-packages/ipykernel/kernelbase.py\u001b[0m in \u001b[0;36m_input_request\u001b[0;34m(self, prompt, ident, parent, password)\u001b[0m\n\u001b[1;32m    893\u001b[0m             \u001b[0;32mexcept\u001b[0m \u001b[0mKeyboardInterrupt\u001b[0m\u001b[0;34m:\u001b[0m\u001b[0;34m\u001b[0m\u001b[0;34m\u001b[0m\u001b[0m\n\u001b[1;32m    894\u001b[0m                 \u001b[0;31m# re-raise KeyboardInterrupt, to truncate traceback\u001b[0m\u001b[0;34m\u001b[0m\u001b[0;34m\u001b[0m\u001b[0m\n\u001b[0;32m--> 895\u001b[0;31m                 \u001b[0;32mraise\u001b[0m \u001b[0mKeyboardInterrupt\u001b[0m\u001b[0;34m(\u001b[0m\u001b[0;34m\"Interrupted by user\"\u001b[0m\u001b[0;34m)\u001b[0m \u001b[0;32mfrom\u001b[0m \u001b[0;32mNone\u001b[0m\u001b[0;34m\u001b[0m\u001b[0;34m\u001b[0m\u001b[0m\n\u001b[0m\u001b[1;32m    896\u001b[0m             \u001b[0;32mexcept\u001b[0m \u001b[0mException\u001b[0m \u001b[0;32mas\u001b[0m \u001b[0me\u001b[0m\u001b[0;34m:\u001b[0m\u001b[0;34m\u001b[0m\u001b[0;34m\u001b[0m\u001b[0m\n\u001b[1;32m    897\u001b[0m                 \u001b[0mself\u001b[0m\u001b[0;34m.\u001b[0m\u001b[0mlog\u001b[0m\u001b[0;34m.\u001b[0m\u001b[0mwarning\u001b[0m\u001b[0;34m(\u001b[0m\u001b[0;34m\"Invalid Message:\"\u001b[0m\u001b[0;34m,\u001b[0m \u001b[0mexc_info\u001b[0m\u001b[0;34m=\u001b[0m\u001b[0;32mTrue\u001b[0m\u001b[0;34m)\u001b[0m\u001b[0;34m\u001b[0m\u001b[0;34m\u001b[0m\u001b[0m\n",
            "\u001b[0;31mKeyboardInterrupt\u001b[0m: Interrupted by user"
          ]
        }
      ]
    }
  ]
}